{
 "cells": [
  {
   "cell_type": "code",
   "execution_count": 16,
   "metadata": {},
   "outputs": [],
   "source": [
    "import pandas as pd\n",
    "      \n",
    "ruta_archivo_json = 'https://drive.google.com/file/d/1CjTAiWvX3icgXdzGPSqwCPTSGp6OKJ_V/view?usp=sharing'\n",
    "url='https://drive.google.com/uc?id=' + ruta_archivo_json.split('/')[-2]\n",
    "datos = pd.read_json(url,  lines=True)\n"
   ]
  },
  {
   "cell_type": "code",
   "execution_count": 7,
   "metadata": {},
   "outputs": [],
   "source": [
    "lista_columnas=datos.columns"
   ]
  },
  {
   "cell_type": "code",
   "execution_count": 20,
   "metadata": {},
   "outputs": [
    {
     "name": "stdout",
     "output_type": "stream",
     "text": [
      "number\n",
      "position\n",
      "time\n",
      "milliseconds\n",
      "fastestLap\n",
      "rank\n",
      "fastestLapTime\n",
      "fastestLapSpeed\n"
     ]
    }
   ],
   "source": [
    "#columnas con caracter \\\\N\n",
    "for i in lista_columnas:\n",
    "   len_df=len(datos[datos[i]=='\\\\N'])\n",
    "   if(len_df!=0):\n",
    "      print(i)\n",
    "  "
   ]
  },
  {
   "cell_type": "code",
   "execution_count": null,
   "metadata": {},
   "outputs": [
    {
     "data": {
      "text/plain": [
       "resultId               0\n",
       "raceId                 0\n",
       "driverId               0\n",
       "constructorId          0\n",
       "number                 0\n",
       "grid                   0\n",
       "position           10735\n",
       "positionText           0\n",
       "positionOrder          0\n",
       "points                 0\n",
       "laps                   0\n",
       "time                   0\n",
       "milliseconds           0\n",
       "fastestLap             0\n",
       "rank                   0\n",
       "fastestLapTime         0\n",
       "fastestLapSpeed        0\n",
       "statusId               0\n",
       "dtype: int64"
      ]
     },
     "execution_count": 150,
     "metadata": {},
     "output_type": "execute_result"
    }
   ],
   "source": [
    "datos.isnull().sum()"
   ]
  }
 ],
 "metadata": {
  "kernelspec": {
   "display_name": "Python 3.10.2 64-bit",
   "language": "python",
   "name": "python3"
  },
  "language_info": {
   "codemirror_mode": {
    "name": "ipython",
    "version": 3
   },
   "file_extension": ".py",
   "mimetype": "text/x-python",
   "name": "python",
   "nbconvert_exporter": "python",
   "pygments_lexer": "ipython3",
   "version": "3.9.13"
  },
  "orig_nbformat": 4,
  "vscode": {
   "interpreter": {
    "hash": "369f2c481f4da34e4445cda3fffd2e751bd1c4d706f27375911949ba6bb62e1c"
   }
  }
 },
 "nbformat": 4,
 "nbformat_minor": 2
}
