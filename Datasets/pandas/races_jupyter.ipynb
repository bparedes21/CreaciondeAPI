{
 "cells": [
  {
   "cell_type": "code",
   "execution_count": 4,
   "metadata": {},
   "outputs": [],
   "source": [
    "import pandas as pd\n"
   ]
  },
  {
   "cell_type": "code",
   "execution_count": null,
   "metadata": {},
   "outputs": [],
   "source": [
    "datos_df=pd.read_csv('C:\\\\Users\\\\ROXI\\\\OneDrive\\\\Escritorio\\\\henry\\\\pi\\\\PI01_DATA03\\\\Datasets\\\\races.csv')"
   ]
  },
  {
   "cell_type": "code",
   "execution_count": 4,
   "metadata": {},
   "outputs": [
    {
     "name": "stdout",
     "output_type": "stream",
     "text": [
      "<class 'pandas.core.frame.DataFrame'>\n",
      "RangeIndex: 1058 entries, 0 to 1057\n",
      "Data columns (total 8 columns):\n",
      " #   Column     Non-Null Count  Dtype \n",
      "---  ------     --------------  ----- \n",
      " 0   raceId     1058 non-null   int64 \n",
      " 1   year       1058 non-null   int64 \n",
      " 2   round      1058 non-null   int64 \n",
      " 3   circuitId  1058 non-null   int64 \n",
      " 4   name       1058 non-null   object\n",
      " 5   date       1058 non-null   object\n",
      " 6   time       1058 non-null   object\n",
      " 7   url        1058 non-null   object\n",
      "dtypes: int64(4), object(4)\n",
      "memory usage: 66.2+ KB\n"
     ]
    }
   ],
   "source": [
    "datos_df.info()"
   ]
  },
  {
   "cell_type": "code",
   "execution_count": 67,
   "metadata": {},
   "outputs": [],
   "source": [
    "raceId_df=datos_df[\"raceId\"].drop_duplicates()"
   ]
  },
  {
   "cell_type": "code",
   "execution_count": 68,
   "metadata": {},
   "outputs": [
    {
     "data": {
      "text/plain": [
       "0          1\n",
       "1          2\n",
       "2          3\n",
       "3          4\n",
       "4          5\n",
       "        ... \n",
       "1053    1069\n",
       "1054    1070\n",
       "1055    1071\n",
       "1056    1072\n",
       "1057    1073\n",
       "Name: raceId, Length: 1058, dtype: int64"
      ]
     },
     "execution_count": 68,
     "metadata": {},
     "output_type": "execute_result"
    }
   ],
   "source": [
    "raceId_df"
   ]
  },
  {
   "cell_type": "code",
   "execution_count": null,
   "metadata": {},
   "outputs": [],
   "source": [
    "no existen raceId duplicados"
   ]
  },
  {
   "cell_type": "markdown",
   "metadata": {},
   "source": [
    "existen 1073 raceId pero tengo 1058 registros "
   ]
  },
  {
   "cell_type": "code",
   "execution_count": 9,
   "metadata": {},
   "outputs": [
    {
     "data": {
      "text/plain": [
       "raceId       0\n",
       "year         0\n",
       "round        0\n",
       "circuitId    0\n",
       "name         0\n",
       "date         0\n",
       "time         0\n",
       "url          0\n",
       "dtype: int64"
      ]
     },
     "execution_count": 9,
     "metadata": {},
     "output_type": "execute_result"
    }
   ],
   "source": [
    "datos_df.isnull().sum()"
   ]
  },
  {
   "cell_type": "markdown",
   "metadata": {},
   "source": [
    "no hay valores faltantes"
   ]
  },
  {
   "cell_type": "code",
   "execution_count": 49,
   "metadata": {},
   "outputs": [],
   "source": [
    "#convert to lower case\n",
    "datos_df['url'] = datos_df['url'].str.lower()\n",
    "# remove trailing white spaces\n",
    "datos_df['url'] = datos_df['url'].str.strip()"
   ]
  },
  {
   "cell_type": "code",
   "execution_count": 50,
   "metadata": {},
   "outputs": [],
   "source": [
    "# convert to lower case\n",
    "datos_df['name'] = datos_df['name'].str.lower()\n",
    "# remove trailing white spaces\n",
    "datos_df['name'] = datos_df['name'].str.strip()"
   ]
  },
  {
   "cell_type": "code",
   "execution_count": 59,
   "metadata": {},
   "outputs": [],
   "source": [
    "s=datos_df['name'].sort_values()"
   ]
  },
  {
   "cell_type": "code",
   "execution_count": 60,
   "metadata": {},
   "outputs": [
    {
     "data": {
      "text/plain": [
       "array(['70th anniversary grand prix', 'abu dhabi grand prix',\n",
       "       'argentine grand prix', 'australian grand prix',\n",
       "       'austrian grand prix', 'azerbaijan grand prix',\n",
       "       'bahrain grand prix', 'belgian grand prix', 'brazilian grand prix',\n",
       "       'british grand prix', 'caesars palace grand prix',\n",
       "       'canadian grand prix', 'chinese grand prix', 'dallas grand prix',\n",
       "       'detroit grand prix', 'dutch grand prix', 'eifel grand prix',\n",
       "       'emilia romagna grand prix', 'european grand prix',\n",
       "       'french grand prix', 'german grand prix', 'hungarian grand prix',\n",
       "       'indian grand prix', 'indianapolis 500', 'italian grand prix',\n",
       "       'japanese grand prix', 'korean grand prix',\n",
       "       'luxembourg grand prix', 'malaysian grand prix',\n",
       "       'mexican grand prix', 'mexico city grand prix',\n",
       "       'monaco grand prix', 'moroccan grand prix', 'pacific grand prix',\n",
       "       'pescara grand prix', 'portuguese grand prix',\n",
       "       'russian grand prix', 'sakhir grand prix', 'san marino grand prix',\n",
       "       'saudi arabian grand prix', 'singapore grand prix',\n",
       "       'south african grand prix', 'spanish grand prix',\n",
       "       'styrian grand prix', 'swedish grand prix', 'swiss grand prix',\n",
       "       'tbc', 'turkish grand prix', 'tuscan grand prix',\n",
       "       'united states grand prix', 'united states grand prix west'],\n",
       "      dtype=object)"
      ]
     },
     "execution_count": 60,
     "metadata": {},
     "output_type": "execute_result"
    }
   ],
   "source": [
    "s.unique()"
   ]
  },
  {
   "cell_type": "markdown",
   "metadata": {},
   "source": [
    "viendo los registros de la columna name 'united states grand prix', 'united states grand prix west'son diferentes. Hay parecidos pero no duplicados"
   ]
  },
  {
   "cell_type": "code",
   "execution_count": 5,
   "metadata": {},
   "outputs": [
    {
     "data": {
      "text/plain": [
       "dtype('O')"
      ]
     },
     "execution_count": 5,
     "metadata": {},
     "output_type": "execute_result"
    }
   ],
   "source": [
    "datos_df['date'].dtype"
   ]
  },
  {
   "cell_type": "code",
   "execution_count": 51,
   "metadata": {},
   "outputs": [],
   "source": [
    "# create a new column, date_parsed, with the parsed dates\n",
    "datos_df['date_parsed']= pd.to_datetime(datos_df['date'], format=\"%Y/%m/%d\")"
   ]
  },
  {
   "cell_type": "code",
   "execution_count": 21,
   "metadata": {},
   "outputs": [
    {
     "data": {
      "text/plain": [
       "0   2009-03-29\n",
       "1   2009-04-05\n",
       "2   2009-04-19\n",
       "3   2009-04-26\n",
       "4   2009-05-10\n",
       "Name: date_parsed, dtype: datetime64[ns]"
      ]
     },
     "execution_count": 21,
     "metadata": {},
     "output_type": "execute_result"
    }
   ],
   "source": [
    "datos_df['date_parsed'].head()"
   ]
  },
  {
   "cell_type": "code",
   "execution_count": 38,
   "metadata": {},
   "outputs": [],
   "source": [
    "array_year= datos_df['date_parsed'].dt.year.unique()"
   ]
  },
  {
   "cell_type": "code",
   "execution_count": 39,
   "metadata": {},
   "outputs": [
    {
     "data": {
      "text/plain": [
       "array([2009, 2008, 2007, 2006, 2005, 2004, 2003, 2002, 2001, 2000, 1999,\n",
       "       1998, 1997, 1996, 1995, 1994, 1993, 1992, 1991, 1990, 2010, 1989,\n",
       "       1988, 1987, 1986, 1985, 1984, 1983, 1982, 1981, 1980, 1979, 1978,\n",
       "       1977, 1976, 1975, 1974, 1973, 1972, 1971, 1970, 1969, 1968, 1967,\n",
       "       1966, 1965, 1964, 1963, 1962, 1961, 1960, 1959, 1958, 1957, 1956,\n",
       "       1955, 1954, 1953, 1952, 1951, 1950, 2011, 2012, 2013, 2014, 2015,\n",
       "       2016, 2017, 2018, 2019, 2020, 2021], dtype=int64)"
      ]
     },
     "execution_count": 39,
     "metadata": {},
     "output_type": "execute_result"
    }
   ],
   "source": [
    "array_year"
   ]
  },
  {
   "cell_type": "code",
   "execution_count": 40,
   "metadata": {},
   "outputs": [],
   "source": [
    "datos_df[\"year\"] = datos_df['date_parsed'].dt.year\n"
   ]
  },
  {
   "cell_type": "code",
   "execution_count": 41,
   "metadata": {},
   "outputs": [
    {
     "data": {
      "text/plain": [
       "0       2009\n",
       "1       2009\n",
       "2       2009\n",
       "3       2009\n",
       "4       2009\n",
       "        ... \n",
       "1053    2021\n",
       "1054    2021\n",
       "1055    2021\n",
       "1056    2021\n",
       "1057    2021\n",
       "Name: year, Length: 1058, dtype: int64"
      ]
     },
     "execution_count": 41,
     "metadata": {},
     "output_type": "execute_result"
    }
   ],
   "source": [
    "datos_df[\"year\"] "
   ]
  },
  {
   "cell_type": "code",
   "execution_count": 35,
   "metadata": {},
   "outputs": [
    {
     "data": {
      "text/plain": [
       "2021    23\n",
       "2019    21\n",
       "2016    21\n",
       "2018    21\n",
       "2012    20\n",
       "        ..\n",
       "1956     8\n",
       "1957     8\n",
       "1961     8\n",
       "1950     7\n",
       "1955     7\n",
       "Name: year, Length: 72, dtype: int64"
      ]
     },
     "execution_count": 35,
     "metadata": {},
     "output_type": "execute_result"
    }
   ],
   "source": [
    "datos_df[\"year\"].value_counts()"
   ]
  },
  {
   "cell_type": "code",
   "execution_count": 58,
   "metadata": {},
   "outputs": [],
   "source": [
    "datos_df.to_json('file.json', orient = 'split', compression = 'infer', index = 'true')"
   ]
  },
  {
   "cell_type": "code",
   "execution_count": 59,
   "metadata": {},
   "outputs": [],
   "source": [
    "datos_df.to_csv('races_.csv', encoding='utf-8', index=False)"
   ]
  },
  {
   "cell_type": "code",
   "execution_count": 63,
   "metadata": {},
   "outputs": [],
   "source": [
    "df=datos_df[datos_df[\"year\"]==2009]"
   ]
  },
  {
   "cell_type": "code",
   "execution_count": 64,
   "metadata": {},
   "outputs": [
    {
     "data": {
      "text/html": [
       "<div>\n",
       "<style scoped>\n",
       "    .dataframe tbody tr th:only-of-type {\n",
       "        vertical-align: middle;\n",
       "    }\n",
       "\n",
       "    .dataframe tbody tr th {\n",
       "        vertical-align: top;\n",
       "    }\n",
       "\n",
       "    .dataframe thead th {\n",
       "        text-align: right;\n",
       "    }\n",
       "</style>\n",
       "<table border=\"1\" class=\"dataframe\">\n",
       "  <thead>\n",
       "    <tr style=\"text-align: right;\">\n",
       "      <th></th>\n",
       "      <th>raceId</th>\n",
       "      <th>year</th>\n",
       "      <th>round</th>\n",
       "      <th>circuitId</th>\n",
       "      <th>name</th>\n",
       "      <th>date</th>\n",
       "      <th>time</th>\n",
       "      <th>url</th>\n",
       "      <th>date_parsed</th>\n",
       "    </tr>\n",
       "  </thead>\n",
       "  <tbody>\n",
       "    <tr>\n",
       "      <th>0</th>\n",
       "      <td>1</td>\n",
       "      <td>2009</td>\n",
       "      <td>1</td>\n",
       "      <td>1</td>\n",
       "      <td>australian grand prix</td>\n",
       "      <td>2009-03-29</td>\n",
       "      <td>06:00:00</td>\n",
       "      <td>http://en.wikipedia.org/wiki/2009_australian_g...</td>\n",
       "      <td>2009-03-29</td>\n",
       "    </tr>\n",
       "    <tr>\n",
       "      <th>1</th>\n",
       "      <td>2</td>\n",
       "      <td>2009</td>\n",
       "      <td>2</td>\n",
       "      <td>2</td>\n",
       "      <td>malaysian grand prix</td>\n",
       "      <td>2009-04-05</td>\n",
       "      <td>09:00:00</td>\n",
       "      <td>http://en.wikipedia.org/wiki/2009_malaysian_gr...</td>\n",
       "      <td>2009-04-05</td>\n",
       "    </tr>\n",
       "    <tr>\n",
       "      <th>2</th>\n",
       "      <td>3</td>\n",
       "      <td>2009</td>\n",
       "      <td>3</td>\n",
       "      <td>17</td>\n",
       "      <td>chinese grand prix</td>\n",
       "      <td>2009-04-19</td>\n",
       "      <td>07:00:00</td>\n",
       "      <td>http://en.wikipedia.org/wiki/2009_chinese_gran...</td>\n",
       "      <td>2009-04-19</td>\n",
       "    </tr>\n",
       "    <tr>\n",
       "      <th>3</th>\n",
       "      <td>4</td>\n",
       "      <td>2009</td>\n",
       "      <td>4</td>\n",
       "      <td>3</td>\n",
       "      <td>bahrain grand prix</td>\n",
       "      <td>2009-04-26</td>\n",
       "      <td>12:00:00</td>\n",
       "      <td>http://en.wikipedia.org/wiki/2009_bahrain_gran...</td>\n",
       "      <td>2009-04-26</td>\n",
       "    </tr>\n",
       "    <tr>\n",
       "      <th>4</th>\n",
       "      <td>5</td>\n",
       "      <td>2009</td>\n",
       "      <td>5</td>\n",
       "      <td>4</td>\n",
       "      <td>spanish grand prix</td>\n",
       "      <td>2009-05-10</td>\n",
       "      <td>12:00:00</td>\n",
       "      <td>http://en.wikipedia.org/wiki/2009_spanish_gran...</td>\n",
       "      <td>2009-05-10</td>\n",
       "    </tr>\n",
       "    <tr>\n",
       "      <th>5</th>\n",
       "      <td>6</td>\n",
       "      <td>2009</td>\n",
       "      <td>6</td>\n",
       "      <td>6</td>\n",
       "      <td>monaco grand prix</td>\n",
       "      <td>2009-05-24</td>\n",
       "      <td>12:00:00</td>\n",
       "      <td>http://en.wikipedia.org/wiki/2009_monaco_grand...</td>\n",
       "      <td>2009-05-24</td>\n",
       "    </tr>\n",
       "    <tr>\n",
       "      <th>6</th>\n",
       "      <td>7</td>\n",
       "      <td>2009</td>\n",
       "      <td>7</td>\n",
       "      <td>5</td>\n",
       "      <td>turkish grand prix</td>\n",
       "      <td>2009-06-07</td>\n",
       "      <td>12:00:00</td>\n",
       "      <td>http://en.wikipedia.org/wiki/2009_turkish_gran...</td>\n",
       "      <td>2009-06-07</td>\n",
       "    </tr>\n",
       "    <tr>\n",
       "      <th>7</th>\n",
       "      <td>8</td>\n",
       "      <td>2009</td>\n",
       "      <td>8</td>\n",
       "      <td>9</td>\n",
       "      <td>british grand prix</td>\n",
       "      <td>2009-06-21</td>\n",
       "      <td>12:00:00</td>\n",
       "      <td>http://en.wikipedia.org/wiki/2009_british_gran...</td>\n",
       "      <td>2009-06-21</td>\n",
       "    </tr>\n",
       "    <tr>\n",
       "      <th>8</th>\n",
       "      <td>9</td>\n",
       "      <td>2009</td>\n",
       "      <td>9</td>\n",
       "      <td>20</td>\n",
       "      <td>german grand prix</td>\n",
       "      <td>2009-07-12</td>\n",
       "      <td>12:00:00</td>\n",
       "      <td>http://en.wikipedia.org/wiki/2009_german_grand...</td>\n",
       "      <td>2009-07-12</td>\n",
       "    </tr>\n",
       "    <tr>\n",
       "      <th>9</th>\n",
       "      <td>10</td>\n",
       "      <td>2009</td>\n",
       "      <td>10</td>\n",
       "      <td>11</td>\n",
       "      <td>hungarian grand prix</td>\n",
       "      <td>2009-07-26</td>\n",
       "      <td>12:00:00</td>\n",
       "      <td>http://en.wikipedia.org/wiki/2009_hungarian_gr...</td>\n",
       "      <td>2009-07-26</td>\n",
       "    </tr>\n",
       "    <tr>\n",
       "      <th>10</th>\n",
       "      <td>11</td>\n",
       "      <td>2009</td>\n",
       "      <td>11</td>\n",
       "      <td>12</td>\n",
       "      <td>european grand prix</td>\n",
       "      <td>2009-08-23</td>\n",
       "      <td>12:00:00</td>\n",
       "      <td>http://en.wikipedia.org/wiki/2009_european_gra...</td>\n",
       "      <td>2009-08-23</td>\n",
       "    </tr>\n",
       "    <tr>\n",
       "      <th>11</th>\n",
       "      <td>12</td>\n",
       "      <td>2009</td>\n",
       "      <td>12</td>\n",
       "      <td>13</td>\n",
       "      <td>belgian grand prix</td>\n",
       "      <td>2009-08-30</td>\n",
       "      <td>12:00:00</td>\n",
       "      <td>http://en.wikipedia.org/wiki/2009_belgian_gran...</td>\n",
       "      <td>2009-08-30</td>\n",
       "    </tr>\n",
       "    <tr>\n",
       "      <th>12</th>\n",
       "      <td>13</td>\n",
       "      <td>2009</td>\n",
       "      <td>13</td>\n",
       "      <td>14</td>\n",
       "      <td>italian grand prix</td>\n",
       "      <td>2009-09-13</td>\n",
       "      <td>12:00:00</td>\n",
       "      <td>http://en.wikipedia.org/wiki/2009_italian_gran...</td>\n",
       "      <td>2009-09-13</td>\n",
       "    </tr>\n",
       "    <tr>\n",
       "      <th>13</th>\n",
       "      <td>14</td>\n",
       "      <td>2009</td>\n",
       "      <td>14</td>\n",
       "      <td>15</td>\n",
       "      <td>singapore grand prix</td>\n",
       "      <td>2009-09-27</td>\n",
       "      <td>12:00:00</td>\n",
       "      <td>http://en.wikipedia.org/wiki/2009_singapore_gr...</td>\n",
       "      <td>2009-09-27</td>\n",
       "    </tr>\n",
       "    <tr>\n",
       "      <th>14</th>\n",
       "      <td>15</td>\n",
       "      <td>2009</td>\n",
       "      <td>15</td>\n",
       "      <td>22</td>\n",
       "      <td>japanese grand prix</td>\n",
       "      <td>2009-10-04</td>\n",
       "      <td>05:00:00</td>\n",
       "      <td>http://en.wikipedia.org/wiki/2009_japanese_gra...</td>\n",
       "      <td>2009-10-04</td>\n",
       "    </tr>\n",
       "    <tr>\n",
       "      <th>15</th>\n",
       "      <td>16</td>\n",
       "      <td>2009</td>\n",
       "      <td>16</td>\n",
       "      <td>18</td>\n",
       "      <td>brazilian grand prix</td>\n",
       "      <td>2009-10-18</td>\n",
       "      <td>16:00:00</td>\n",
       "      <td>http://en.wikipedia.org/wiki/2009_brazilian_gr...</td>\n",
       "      <td>2009-10-18</td>\n",
       "    </tr>\n",
       "    <tr>\n",
       "      <th>16</th>\n",
       "      <td>17</td>\n",
       "      <td>2009</td>\n",
       "      <td>17</td>\n",
       "      <td>24</td>\n",
       "      <td>abu dhabi grand prix</td>\n",
       "      <td>2009-11-01</td>\n",
       "      <td>11:00:00</td>\n",
       "      <td>http://en.wikipedia.org/wiki/2009_abu_dhabi_gr...</td>\n",
       "      <td>2009-11-01</td>\n",
       "    </tr>\n",
       "  </tbody>\n",
       "</table>\n",
       "</div>"
      ],
      "text/plain": [
       "    raceId  year  round  circuitId                   name        date  \\\n",
       "0        1  2009      1          1  australian grand prix  2009-03-29   \n",
       "1        2  2009      2          2   malaysian grand prix  2009-04-05   \n",
       "2        3  2009      3         17     chinese grand prix  2009-04-19   \n",
       "3        4  2009      4          3     bahrain grand prix  2009-04-26   \n",
       "4        5  2009      5          4     spanish grand prix  2009-05-10   \n",
       "5        6  2009      6          6      monaco grand prix  2009-05-24   \n",
       "6        7  2009      7          5     turkish grand prix  2009-06-07   \n",
       "7        8  2009      8          9     british grand prix  2009-06-21   \n",
       "8        9  2009      9         20      german grand prix  2009-07-12   \n",
       "9       10  2009     10         11   hungarian grand prix  2009-07-26   \n",
       "10      11  2009     11         12    european grand prix  2009-08-23   \n",
       "11      12  2009     12         13     belgian grand prix  2009-08-30   \n",
       "12      13  2009     13         14     italian grand prix  2009-09-13   \n",
       "13      14  2009     14         15   singapore grand prix  2009-09-27   \n",
       "14      15  2009     15         22    japanese grand prix  2009-10-04   \n",
       "15      16  2009     16         18   brazilian grand prix  2009-10-18   \n",
       "16      17  2009     17         24   abu dhabi grand prix  2009-11-01   \n",
       "\n",
       "        time                                                url date_parsed  \n",
       "0   06:00:00  http://en.wikipedia.org/wiki/2009_australian_g...  2009-03-29  \n",
       "1   09:00:00  http://en.wikipedia.org/wiki/2009_malaysian_gr...  2009-04-05  \n",
       "2   07:00:00  http://en.wikipedia.org/wiki/2009_chinese_gran...  2009-04-19  \n",
       "3   12:00:00  http://en.wikipedia.org/wiki/2009_bahrain_gran...  2009-04-26  \n",
       "4   12:00:00  http://en.wikipedia.org/wiki/2009_spanish_gran...  2009-05-10  \n",
       "5   12:00:00  http://en.wikipedia.org/wiki/2009_monaco_grand...  2009-05-24  \n",
       "6   12:00:00  http://en.wikipedia.org/wiki/2009_turkish_gran...  2009-06-07  \n",
       "7   12:00:00  http://en.wikipedia.org/wiki/2009_british_gran...  2009-06-21  \n",
       "8   12:00:00  http://en.wikipedia.org/wiki/2009_german_grand...  2009-07-12  \n",
       "9   12:00:00  http://en.wikipedia.org/wiki/2009_hungarian_gr...  2009-07-26  \n",
       "10  12:00:00  http://en.wikipedia.org/wiki/2009_european_gra...  2009-08-23  \n",
       "11  12:00:00  http://en.wikipedia.org/wiki/2009_belgian_gran...  2009-08-30  \n",
       "12  12:00:00  http://en.wikipedia.org/wiki/2009_italian_gran...  2009-09-13  \n",
       "13  12:00:00  http://en.wikipedia.org/wiki/2009_singapore_gr...  2009-09-27  \n",
       "14  05:00:00  http://en.wikipedia.org/wiki/2009_japanese_gra...  2009-10-04  \n",
       "15  16:00:00  http://en.wikipedia.org/wiki/2009_brazilian_gr...  2009-10-18  \n",
       "16  11:00:00  http://en.wikipedia.org/wiki/2009_abu_dhabi_gr...  2009-11-01  "
      ]
     },
     "execution_count": 64,
     "metadata": {},
     "output_type": "execute_result"
    }
   ],
   "source": [
    "df"
   ]
  },
  {
   "cell_type": "markdown",
   "metadata": {},
   "source": [
    "las columnas son las mismas para todos los registros"
   ]
  },
  {
   "cell_type": "code",
   "execution_count": 65,
   "metadata": {},
   "outputs": [],
   "source": [
    "list_kick=pd.Series(datos_df['year'].values)"
   ]
  },
  {
   "cell_type": "code",
   "execution_count": 67,
   "metadata": {},
   "outputs": [
    {
     "data": {
      "text/plain": [
       "0       2009\n",
       "1       2009\n",
       "2       2009\n",
       "3       2009\n",
       "4       2009\n",
       "        ... \n",
       "1053    2021\n",
       "1054    2021\n",
       "1055    2021\n",
       "1056    2021\n",
       "1057    2021\n",
       "Length: 1058, dtype: int64"
      ]
     },
     "execution_count": 67,
     "metadata": {},
     "output_type": "execute_result"
    }
   ],
   "source": [
    "list_kick"
   ]
  },
  {
   "cell_type": "code",
   "execution_count": 8,
   "metadata": {},
   "outputs": [],
   "source": [
    "datos_df1=pd.read_csv(r'C:\\Users\\ROXI\\OneDrive\\Escritorio\\Proyecto Individual 1- Data 03- Soy Henry\\Proyecto-Individual-1\\Datasets\\pandas\\dataset_procesados\\races_.csv')"
   ]
  },
  {
   "cell_type": "code",
   "execution_count": 14,
   "metadata": {},
   "outputs": [],
   "source": [
    "array_circuitId=pd.DataFrame()"
   ]
  },
  {
   "cell_type": "code",
   "execution_count": 27,
   "metadata": {},
   "outputs": [
    {
     "data": {
      "text/plain": [
       "14"
      ]
     },
     "execution_count": 27,
     "metadata": {},
     "output_type": "execute_result"
    }
   ],
   "source": [
    "#circuitId de circuito mas recorrido\n",
    "array_circuitId[\"c\"]=datos_df1['circuitId'].value_counts()\n",
    "array_circuitId.index[0]\n"
   ]
  },
  {
   "cell_type": "code",
   "execution_count": 26,
   "metadata": {},
   "outputs": [
    {
     "data": {
      "text/plain": [
       "71"
      ]
     },
     "execution_count": 26,
     "metadata": {},
     "output_type": "execute_result"
    }
   ],
   "source": [
    "#cantidad de veces recorrido\n",
    "cantidad_carreras=int(array_circuitId.iloc[0].values)\n",
    "cantidad_carreras"
   ]
  },
  {
   "cell_type": "code",
   "execution_count": 28,
   "metadata": {},
   "outputs": [],
   "source": [
    "circuit_df2=pd.read_csv(r'C:\\Users\\ROXI\\OneDrive\\Escritorio\\Proyecto Individual 1- Data 03- Soy Henry\\Proyecto-Individual-1\\Datasets\\pandas\\dataset_procesados\\circuit_.csv')"
   ]
  },
  {
   "cell_type": "code",
   "execution_count": 92,
   "metadata": {},
   "outputs": [],
   "source": [
    "registro_de_circuito=circuit_df2[circuit_df2[\"circuitId\"]==14]\n",
    "nombre_de_circuitor=registro_de_circuito[\"name\"]"
   ]
  },
  {
   "cell_type": "code",
   "execution_count": 93,
   "metadata": {},
   "outputs": [
    {
     "data": {
      "text/plain": [
       "13    Autodromo Nazionale di Monza\n",
       "Name: name, dtype: object"
      ]
     },
     "execution_count": 93,
     "metadata": {},
     "output_type": "execute_result"
    }
   ],
   "source": [
    "nombre_de_circuitor"
   ]
  },
  {
   "cell_type": "markdown",
   "metadata": {},
   "source": [
    "Año con más carreras"
   ]
  },
  {
   "cell_type": "code",
   "execution_count": 64,
   "metadata": {},
   "outputs": [],
   "source": [
    "def contar_año_con_mas_carreras():\n",
    "    cantidad_carreras=0\n",
    "    import pandas as pd\n",
    "    datos_df1=pd.read_csv(r'C:\\Users\\ROXI\\OneDrive\\Escritorio\\henry\\pi\\PI01_DATA03\\Datasets\\pandas\\races_.csv')\n",
    "    array_year=datos_df['date_parsed'].dt.year.value_counts()\n",
    "    cantidad_carreras=array_year.iloc[0]\n",
    "    return cantidad_carreras\n"
   ]
  },
  {
   "cell_type": "code",
   "execution_count": 66,
   "metadata": {},
   "outputs": [
    {
     "name": "stdout",
     "output_type": "stream",
     "text": [
      "23\n"
     ]
    }
   ],
   "source": [
    "ds=contar_año_con_mas_carreras()\n",
    "print(ds)"
   ]
  },
  {
   "cell_type": "code",
   "execution_count": 103,
   "metadata": {},
   "outputs": [],
   "source": [
    "\n",
    "\n",
    "def busca_circuito_mas_recorrido():\n",
    "    import numpy as np\n",
    "    import pandas as pd\n",
    "\n",
    "    nombre_de_circuitor=pd.DataFrame()\n",
    "    registro_de_circuito=pd.DataFrame()\n",
    "    races_df1=pd.read_csv(r'C:\\Users\\ROXI\\OneDrive\\Escritorio\\Proyecto Individual 1- Data 03- Soy Henry\\Proyecto-Individual-1\\Datasets\\pandas\\dataset_procesados\\races_.csv')\n",
    "    circuit_df2=pd.read_csv(r'C:\\Users\\ROXI\\OneDrive\\Escritorio\\Proyecto Individual 1- Data 03- Soy Henry\\Proyecto-Individual-1\\Datasets\\pandas\\dataset_procesados\\circuit_.csv')\n",
    "    array_circuitId[\"c\"]=races_df1['circuitId'].value_counts()\n",
    "    circuitId_mas_recorrido=array_circuitId.index[0]\n",
    "    \n",
    "    registro_de_circuito=circuit_df2[circuit_df2[\"circuitId\"]==circuitId_mas_recorrido]\n",
    "    nombre_de_circuitor=registro_de_circuito[\"name\"]\n",
    "\n",
    "    \n",
    "    return nombre_de_circuitor.iloc[0]"
   ]
  }
 ],
 "metadata": {
  "kernelspec": {
   "display_name": "Python 3.10.2 64-bit",
   "language": "python",
   "name": "python3"
  },
  "language_info": {
   "codemirror_mode": {
    "name": "ipython",
    "version": 3
   },
   "file_extension": ".py",
   "mimetype": "text/x-python",
   "name": "python",
   "nbconvert_exporter": "python",
   "pygments_lexer": "ipython3",
   "version": "3.10.2"
  },
  "orig_nbformat": 4,
  "vscode": {
   "interpreter": {
    "hash": "369f2c481f4da34e4445cda3fffd2e751bd1c4d706f27375911949ba6bb62e1c"
   }
  }
 },
 "nbformat": 4,
 "nbformat_minor": 2
}
